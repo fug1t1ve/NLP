{
  "nbformat": 4,
  "nbformat_minor": 0,
  "metadata": {
    "colab": {
      "name": "NLP-lab1.ipynb",
      "provenance": [],
      "collapsed_sections": [
        "_WvhDPuwvJjQ",
        "WlIYsie61XMD",
        "Nbe4OWVuwOax"
      ],
      "include_colab_link": true
    },
    "kernelspec": {
      "name": "python3",
      "display_name": "Python 3"
    },
    "language_info": {
      "name": "python"
    }
  },
  "cells": [
    {
      "cell_type": "markdown",
      "metadata": {
        "id": "view-in-github",
        "colab_type": "text"
      },
      "source": [
        "<a href=\"https://colab.research.google.com/github/fug1t1ve/NLP/blob/main/NLP_lab1.ipynb\" target=\"_parent\"><img src=\"https://colab.research.google.com/assets/colab-badge.svg\" alt=\"Open In Colab\"/></a>"
      ]
    },
    {
      "cell_type": "markdown",
      "source": [
        "https://colab.research.google.com/drive/1wgkeU97SWZDBqQzCcC_acLvXOyVU3fLT?usp=sharing"
      ],
      "metadata": {
        "id": "x3tp2A4pfxJV"
      }
    },
    {
      "cell_type": "code",
      "source": [
        "from google.colab import drive\n",
        "drive.mount('/content/drive')"
      ],
      "metadata": {
        "colab": {
          "base_uri": "https://localhost:8080/"
        },
        "id": "KjTwdpPXGZSo",
        "outputId": "0db9a994-ab38-49c9-e422-153eed79bb8d"
      },
      "execution_count": null,
      "outputs": [
        {
          "output_type": "stream",
          "name": "stdout",
          "text": [
            "Mounted at /content/drive\n"
          ]
        }
      ]
    },
    {
      "cell_type": "markdown",
      "source": [
        ""
      ],
      "metadata": {
        "id": "bBKJskFt1Oya"
      }
    },
    {
      "cell_type": "markdown",
      "source": [
        "# Q1"
      ],
      "metadata": {
        "id": "_kAgWweT1R3m"
      }
    },
    {
      "cell_type": "code",
      "execution_count": null,
      "metadata": {
        "id": "Tms2os0hzRF4"
      },
      "outputs": [],
      "source": [
        "f=open('/content/drive/MyDrive/AM.EN.U4AIE19031-Gourav Singh Bajeli/Lab1/f1.txt','r')\n",
        "f2=f.read()\n",
        "f.close()"
      ]
    },
    {
      "cell_type": "markdown",
      "source": [
        "## a"
      ],
      "metadata": {
        "id": "5c7-vFt11Uly"
      }
    },
    {
      "cell_type": "markdown",
      "source": [
        "### sentence"
      ],
      "metadata": {
        "id": "_WvhDPuwvJjQ"
      }
    },
    {
      "cell_type": "code",
      "source": [
        "f1=f2.replace('@ @ @ @ @ @ @ @ @ @ ','')\n",
        "p=f1.split('\\n')\n",
        "para=[]\n",
        "for i in p:\n",
        "  para.append(i[11:])\n",
        "sen=[]\n",
        "tst=''\n",
        "for i in para:\n",
        "  tst+=i\n",
        "pp=tst.split('<p>')\n",
        "for k in pp:\n",
        "  l=k.split('<h>')\n",
        "  for i in l:\n",
        "    if i!=\"\":\n",
        "      sen.append(i)\n",
        "fin=[]\n",
        "for i in sen:\n",
        "  prev=0\n",
        "  for j in range(len(i)):\n",
        "    if i[j]=='.' or i[j]=='!' or i[j]=='?' :\n",
        "      fin.append(i[prev:j+1])\n",
        "      prev=j+1\n",
        "len(fin)\n"
      ],
      "metadata": {
        "colab": {
          "base_uri": "https://localhost:8080/"
        },
        "id": "QjKLQaZA1hXm",
        "outputId": "543ec472-11e0-4c3c-c835-e256928b2468"
      },
      "execution_count": null,
      "outputs": [
        {
          "output_type": "execute_result",
          "data": {
            "text/plain": [
              "4390"
            ]
          },
          "metadata": {},
          "execution_count": 4
        }
      ]
    },
    {
      "cell_type": "markdown",
      "source": [
        "### words"
      ],
      "metadata": {
        "id": "WlIYsie61XMD"
      }
    },
    {
      "cell_type": "code",
      "source": [
        "word=[]\n",
        "for i in fin:\n",
        "  prev=0\n",
        "  for j in range(len(i)):\n",
        "    if i[j]==' ' or i[j]=='.' or i[j]==',' or i[j]=='!' or i[j]=='?' or i[j]=='\"' or i[j]==\"'\" or i[j]==')' or i[j]==\"]\":\n",
        "      word.append(i[prev:j])\n",
        "      prev=j+1\n",
        "words=[]\n",
        "for i in word:\n",
        "  if len(i)!=0:\n",
        "    words.append(i)\n",
        "word1=words\n",
        "fw1=len(words)\n",
        "fw1"
      ],
      "metadata": {
        "id": "SZZNc15u1Ntn",
        "colab": {
          "base_uri": "https://localhost:8080/"
        },
        "outputId": "abf8d150-4c86-4b76-fc9e-4e0c77b7f597"
      },
      "execution_count": null,
      "outputs": [
        {
          "output_type": "execute_result",
          "data": {
            "text/plain": [
              "74755"
            ]
          },
          "metadata": {},
          "execution_count": 5
        }
      ]
    },
    {
      "cell_type": "markdown",
      "source": [
        "### characters"
      ],
      "metadata": {
        "id": "Nbe4OWVuwOax"
      }
    },
    {
      "cell_type": "code",
      "source": [
        "cha={}\n",
        "for i in f2:\n",
        "  if i!=' ':\n",
        "    cha[i]=0\n",
        "for i in f2:\n",
        "  if i!=' ':\n",
        "    cha[i]+=1\n",
        "len(cha)"
      ],
      "metadata": {
        "colab": {
          "base_uri": "https://localhost:8080/"
        },
        "id": "tzU5IKF3wSkZ",
        "outputId": "2632db3e-b7ac-47e5-8b87-fc5158087cfd"
      },
      "execution_count": null,
      "outputs": [
        {
          "output_type": "execute_result",
          "data": {
            "text/plain": [
              "84"
            ]
          },
          "metadata": {},
          "execution_count": 7
        }
      ]
    },
    {
      "cell_type": "markdown",
      "source": [
        "# Q2"
      ],
      "metadata": {
        "id": "wUhf351KxZ-r"
      }
    },
    {
      "cell_type": "code",
      "source": [
        "f=open('/content/drive/MyDrive/AM.EN.U4AIE19031-Gourav Singh Bajeli/Lab1/f2.txt','r')\n",
        "f2=f.read()\n",
        "f.close()\n",
        "f=open('/content/drive/MyDrive/AM.EN.U4AIE19031-Gourav Singh Bajeli/Lab1/f3.txt','r')\n",
        "f3=f.read()\n",
        "f.close()\n",
        "f=open('/content/drive/MyDrive/AM.EN.U4AIE19031-Gourav Singh Bajeli/Lab1/f4.txt','r')\n",
        "f4=f.read()\n",
        "f.close()\n",
        "f=open('/content/drive/MyDrive/AM.EN.U4AIE19031-Gourav Singh Bajeli/Lab1/f5.txt','r')\n",
        "f5=f.read()\n",
        "f.close()"
      ],
      "metadata": {
        "id": "W-lBWgoUr3os"
      },
      "execution_count": null,
      "outputs": []
    },
    {
      "cell_type": "code",
      "source": [
        "f1=f2.replace('@ @ @ @ @ @ @ @ @ @ ','')\n",
        "p=f1.split('\\n')\n",
        "para=[]\n",
        "for i in p:\n",
        "  para.append(i[11:])\n",
        "sen=[]\n",
        "tst=''\n",
        "for i in para:\n",
        "  tst+=i\n",
        "pp=tst.split('<p>')\n",
        "for k in pp:\n",
        "  l=k.split('<h>')\n",
        "  for i in l:\n",
        "    if i!=\"\":\n",
        "      sen.append(i)\n",
        "fin=[]\n",
        "for i in sen:\n",
        "  prev=0\n",
        "  for j in range(len(i)):\n",
        "    if i[j]=='.' or i[j]=='!' or i[j]=='?' :\n",
        "      fin.append(i[prev:j+1])\n",
        "      prev=j+1\n",
        "word=[]\n",
        "for i in fin:\n",
        "  prev=0\n",
        "  for j in range(len(i)):\n",
        "    if i[j]==' ' or i[j]=='.' or i[j]==',' or i[j]=='!' or i[j]=='?' or i[j]=='\"' or i[j]==\"'\" or i[j]==')' or i[j]==\"]\":\n",
        "      word.append(i[prev:j])\n",
        "      prev=j+1\n",
        "words=[]\n",
        "for i in word:\n",
        "  if len(i)!=0:\n",
        "    words.append(i)\n",
        "word2=words\n",
        "fw2=len(words)\n",
        "fw2"
      ],
      "metadata": {
        "id": "weBx2OyywcUf",
        "colab": {
          "base_uri": "https://localhost:8080/"
        },
        "outputId": "613b67e0-e5df-46cc-fb24-2083aaf31fd9"
      },
      "execution_count": null,
      "outputs": [
        {
          "output_type": "execute_result",
          "data": {
            "text/plain": [
              "126562"
            ]
          },
          "metadata": {},
          "execution_count": 9
        }
      ]
    },
    {
      "cell_type": "code",
      "source": [
        "f1=f3.replace('@ @ @ @ @ @ @ @ @ @ ','')\n",
        "p=f1.split('\\n')\n",
        "para=[]\n",
        "for i in p:\n",
        "  para.append(i[11:])\n",
        "sen=[]\n",
        "tst=''\n",
        "for i in para:\n",
        "  tst+=i\n",
        "pp=tst.split('<p>')\n",
        "for k in pp:\n",
        "  l=k.split('<h>')\n",
        "  for i in l:\n",
        "    if i!=\"\":\n",
        "      sen.append(i)\n",
        "fin=[]\n",
        "for i in sen:\n",
        "  prev=0\n",
        "  for j in range(len(i)):\n",
        "    if i[j]=='.' or i[j]=='!' or i[j]=='?' :\n",
        "      fin.append(i[prev:j+1])\n",
        "      prev=j+1\n",
        "word=[]\n",
        "for i in fin:\n",
        "  prev=0\n",
        "  for j in range(len(i)):\n",
        "    if i[j]==' ' or i[j]=='.' or i[j]==',' or i[j]=='!' or i[j]=='?' or i[j]=='\"' or i[j]==\"'\" or i[j]==')' or i[j]==\"]\":\n",
        "      word.append(i[prev:j])\n",
        "      prev=j+1\n",
        "words=[]\n",
        "for i in word:\n",
        "  if len(i)!=0:\n",
        "    words.append(i)\n",
        "word3=words\n",
        "fw3=len(words)\n",
        "fw3"
      ],
      "metadata": {
        "colab": {
          "base_uri": "https://localhost:8080/"
        },
        "id": "VHR6v0HrsLIr",
        "outputId": "f41a67c1-8e46-40cd-fe2a-2ba763b7cb9b"
      },
      "execution_count": null,
      "outputs": [
        {
          "output_type": "execute_result",
          "data": {
            "text/plain": [
              "807013"
            ]
          },
          "metadata": {},
          "execution_count": 10
        }
      ]
    },
    {
      "cell_type": "code",
      "source": [
        "f1=f4.replace('@ @ @ @ @ @ @ @ @ @ ','')\n",
        "p=f1.split('\\n')\n",
        "para=[]\n",
        "for i in p:\n",
        "  para.append(i[11:])\n",
        "sen=[]\n",
        "tst=''\n",
        "for i in para:\n",
        "  tst+=i\n",
        "pp=tst.split('<p>')\n",
        "for k in pp:\n",
        "  l=k.split('<h>')\n",
        "  for i in l:\n",
        "    if i!=\"\":\n",
        "      sen.append(i)\n",
        "fin=[]\n",
        "for i in sen:\n",
        "  prev=0\n",
        "  for j in range(len(i)):\n",
        "    if i[j]=='.' or i[j]=='!' or i[j]=='?' :\n",
        "      fin.append(i[prev:j+1])\n",
        "      prev=j+1\n",
        "word=[]\n",
        "for i in fin:\n",
        "  prev=0\n",
        "  for j in range(len(i)):\n",
        "    if i[j]==' ' or i[j]=='.' or i[j]==',' or i[j]=='!' or i[j]=='?' or i[j]=='\"' or i[j]==\"'\" or i[j]==')' or i[j]==\"]\":\n",
        "      word.append(i[prev:j])\n",
        "      prev=j+1\n",
        "words=[]\n",
        "for i in word:\n",
        "  if len(i)!=0:\n",
        "    words.append(i)\n",
        "word4=words\n",
        "fw4=len(words)\n",
        "fw4"
      ],
      "metadata": {
        "colab": {
          "base_uri": "https://localhost:8080/"
        },
        "id": "RRk6XfaJsRxT",
        "outputId": "0318da60-9b56-404e-bf46-375d14132090"
      },
      "execution_count": null,
      "outputs": [
        {
          "output_type": "execute_result",
          "data": {
            "text/plain": [
              "904915"
            ]
          },
          "metadata": {},
          "execution_count": 11
        }
      ]
    },
    {
      "cell_type": "code",
      "source": [
        "f1=f5.replace('@ @ @ @ @ @ @ @ @ @ ','')\n",
        "p=f1.split('\\n')\n",
        "para=[]\n",
        "for i in p:\n",
        "  para.append(i[11:])\n",
        "sen=[]\n",
        "tst=''\n",
        "for i in para:\n",
        "  tst+=i\n",
        "pp=tst.split('<p>')\n",
        "for k in pp:\n",
        "  l=k.split('<h>')\n",
        "  for i in l:\n",
        "    if i!=\"\":\n",
        "      sen.append(i)\n",
        "fin=[]\n",
        "for i in sen:\n",
        "  prev=0\n",
        "  for j in range(len(i)):\n",
        "    if i[j]=='.' or i[j]=='!' or i[j]=='?' :\n",
        "      fin.append(i[prev:j+1])\n",
        "      prev=j+1\n",
        "word=[]\n",
        "for i in fin:\n",
        "  prev=0\n",
        "  for j in range(len(i)):\n",
        "    if i[j]==' ' or i[j]=='.' or i[j]==',' or i[j]=='!' or i[j]=='?' or i[j]=='\"' or i[j]==\"'\" or i[j]==')' or i[j]==\"]\":\n",
        "      word.append(i[prev:j])\n",
        "      prev=j+1\n",
        "words=[]\n",
        "for i in word:\n",
        "  if len(i)!=0:\n",
        "    words.append(i)\n",
        "word5=words\n",
        "fw5=len(words)\n",
        "fw5"
      ],
      "metadata": {
        "colab": {
          "base_uri": "https://localhost:8080/"
        },
        "id": "DfRxdsitsUHO",
        "outputId": "900765b0-a940-4dda-d1ad-5a75422a5cad"
      },
      "execution_count": null,
      "outputs": [
        {
          "output_type": "execute_result",
          "data": {
            "text/plain": [
              "815377"
            ]
          },
          "metadata": {},
          "execution_count": 12
        }
      ]
    },
    {
      "cell_type": "code",
      "source": [
        "fin1={}\n",
        "for i in word1:\n",
        "  fin1[i]=0\n",
        "fin2={}\n",
        "for i in word2:\n",
        "  fin2[i]=0\n",
        "fin3={}\n",
        "for i in word3:\n",
        "  fin3[i]=0\n",
        "fin4={}\n",
        "for i in word4:\n",
        "  fin4[i]=0\n",
        "fin5={}\n",
        "for i in word5:\n",
        "  fin5[i]=0\n",
        "a1=list(fin1.keys())\n",
        "a2=list(fin2.keys())\n",
        "a3=list(fin3.keys())\n",
        "a4=list(fin4.keys())\n",
        "a5=list(fin5.keys())\n",
        "count=0\n",
        "for i in a2:\n",
        "  if i in a1:\n",
        "    count+=1\n",
        "print(\"number of common words with f1:\")\n",
        "print(\"f2 = \",count)\n",
        "count=0\n",
        "for i in a3:\n",
        "  if i in a1:\n",
        "    count+=1\n",
        "print(\"f3 = \",count)\n",
        "count=0\n",
        "for i in a4:\n",
        "  if i in a1:\n",
        "    count+=1\n",
        "print(\"f4 = \",count)\n",
        "count=0\n",
        "for i in a5:\n",
        "  if i in a1:\n",
        "    count+=1\n",
        "print(\"f5 = \",count)\n"
      ],
      "metadata": {
        "colab": {
          "base_uri": "https://localhost:8080/"
        },
        "id": "2uQifgV3-g6N",
        "outputId": "6d88b19f-0a5a-46fe-f0ed-a6f58a4fc3d4"
      },
      "execution_count": null,
      "outputs": [
        {
          "output_type": "stream",
          "name": "stdout",
          "text": [
            "number of common words with f1:\n",
            "f2 =  5954\n",
            "f3 =  8701\n",
            "f4 =  8839\n",
            "f5 =  8727\n"
          ]
        }
      ]
    }
  ]
}